{
 "cells": [
  {
   "cell_type": "code",
   "execution_count": 1,
   "id": "799c8e28-9dae-4f9c-b2d9-c0ab4fe06ff5",
   "metadata": {},
   "outputs": [],
   "source": [
    "# Import necessary libraries\n",
    "import pandas as pd\n",
    "import numpy as np\n",
    "import matplotlib.pyplot as plt\n",
    "import seaborn as sns\n",
    "from collections import Counter\n",
    "from sklearn.feature_extraction.text import TfidfVectorizer\n",
    "from sklearn.model_selection import train_test_split\n",
    "from sklearn.model_selection import GridSearchCV\n",
    "from sklearn.preprocessing import StandardScaler, LabelEncoder\n",
    "from sklearn.ensemble import RandomForestClassifier\n",
    "from sklearn.metrics import classification_report, accuracy_score\n",
    "from sklearn.linear_model import LogisticRegression\n",
    "from imblearn.over_sampling import SMOTE\n",
    "import nltk\n",
    "from nltk.tokenize import word_tokenize\n",
    "from nltk.corpus import stopwords\n",
    "from nltk.stem import PorterStemmer\n",
    "import spacy\n",
    "from tqdm import tqdm"
   ]
  },
  {
   "cell_type": "code",
   "execution_count": 2,
   "id": "f41429bf-9abc-4ccc-bb32-b81e19028f3d",
   "metadata": {},
   "outputs": [
    {
     "name": "stderr",
     "output_type": "stream",
     "text": [
      "[nltk_data] Downloading package punkt to\n",
      "[nltk_data]     C:\\Users\\nehal\\AppData\\Roaming\\nltk_data...\n",
      "[nltk_data]   Package punkt is already up-to-date!\n",
      "[nltk_data] Downloading package stopwords to\n",
      "[nltk_data]     C:\\Users\\nehal\\AppData\\Roaming\\nltk_data...\n",
      "[nltk_data]   Package stopwords is already up-to-date!\n"
     ]
    },
    {
     "data": {
      "text/plain": [
       "True"
      ]
     },
     "execution_count": 2,
     "metadata": {},
     "output_type": "execute_result"
    }
   ],
   "source": [
    "# Download required NLTK resources\n",
    "nltk.download('punkt')\n",
    "nltk.download('stopwords')"
   ]
  },
  {
   "cell_type": "code",
   "execution_count": 3,
   "id": "0536e590-9155-432d-bcea-503ed7547279",
   "metadata": {},
   "outputs": [],
   "source": [
    "# Initialize tools for preprocessing\n",
    "stemmer = PorterStemmer()\n",
    "stop_words = set(stopwords.words('english'))\n",
    "nlp = spacy.load('en_core_web_sm')"
   ]
  },
  {
   "cell_type": "code",
   "execution_count": 4,
   "id": "780bde32-bbac-4489-8289-0ccc681a5f8b",
   "metadata": {},
   "outputs": [],
   "source": [
    "# Load dataset\n",
    "data = pd.read_csv(r\"C:\\Users\\nehal\\Documents\\GitHub\\msba265-finalstorage\\data_storage\\Text\\twitter.csv\", encoding='latin1')"
   ]
  },
  {
   "cell_type": "code",
   "execution_count": 5,
   "id": "b16275b4-a55a-4e86-82eb-49c6aeafd6ce",
   "metadata": {},
   "outputs": [
    {
     "data": {
      "text/plain": [
       "No.        1000\n",
       "Message    1000\n",
       "Source     1000\n",
       "Label      1000\n",
       "Emotion    1000\n",
       "dtype: int64"
      ]
     },
     "execution_count": 5,
     "metadata": {},
     "output_type": "execute_result"
    }
   ],
   "source": [
    "data.isnull().sum()"
   ]
  },
  {
   "cell_type": "code",
   "execution_count": 6,
   "id": "1f63222e-08d7-4f87-9def-3e8c445471e3",
   "metadata": {},
   "outputs": [
    {
     "data": {
      "text/html": [
       "<div>\n",
       "<style scoped>\n",
       "    .dataframe tbody tr th:only-of-type {\n",
       "        vertical-align: middle;\n",
       "    }\n",
       "\n",
       "    .dataframe tbody tr th {\n",
       "        vertical-align: top;\n",
       "    }\n",
       "\n",
       "    .dataframe thead th {\n",
       "        text-align: right;\n",
       "    }\n",
       "</style>\n",
       "<table border=\"1\" class=\"dataframe\">\n",
       "  <thead>\n",
       "    <tr style=\"text-align: right;\">\n",
       "      <th></th>\n",
       "      <th>No.</th>\n",
       "      <th>Message</th>\n",
       "      <th>Source</th>\n",
       "      <th>Label</th>\n",
       "      <th>Emotion</th>\n",
       "    </tr>\n",
       "  </thead>\n",
       "  <tbody>\n",
       "    <tr>\n",
       "      <th>0</th>\n",
       "      <td>1.0</td>\n",
       "      <td>i feel awful about it too because it s my job ...</td>\n",
       "      <td>Twitter</td>\n",
       "      <td>0.0</td>\n",
       "      <td>sadness</td>\n",
       "    </tr>\n",
       "    <tr>\n",
       "      <th>1</th>\n",
       "      <td>2.0</td>\n",
       "      <td>im alone i feel awful</td>\n",
       "      <td>Twitter</td>\n",
       "      <td>0.0</td>\n",
       "      <td>sadness</td>\n",
       "    </tr>\n",
       "    <tr>\n",
       "      <th>2</th>\n",
       "      <td>3.0</td>\n",
       "      <td>ive probably mentioned this before but i reall...</td>\n",
       "      <td>Twitter</td>\n",
       "      <td>1.0</td>\n",
       "      <td>joy</td>\n",
       "    </tr>\n",
       "    <tr>\n",
       "      <th>3</th>\n",
       "      <td>4.0</td>\n",
       "      <td>i was feeling a little low few days back</td>\n",
       "      <td>Twitter</td>\n",
       "      <td>0.0</td>\n",
       "      <td>sadness</td>\n",
       "    </tr>\n",
       "    <tr>\n",
       "      <th>4</th>\n",
       "      <td>5.0</td>\n",
       "      <td>i beleive that i am much more sensitive to oth...</td>\n",
       "      <td>Twitter</td>\n",
       "      <td>2.0</td>\n",
       "      <td>love</td>\n",
       "    </tr>\n",
       "  </tbody>\n",
       "</table>\n",
       "</div>"
      ],
      "text/plain": [
       "   No.                                            Message   Source  Label  \\\n",
       "0  1.0  i feel awful about it too because it s my job ...  Twitter    0.0   \n",
       "1  2.0                              im alone i feel awful  Twitter    0.0   \n",
       "2  3.0  ive probably mentioned this before but i reall...  Twitter    1.0   \n",
       "3  4.0           i was feeling a little low few days back  Twitter    0.0   \n",
       "4  5.0  i beleive that i am much more sensitive to oth...  Twitter    2.0   \n",
       "\n",
       "   Emotion  \n",
       "0  sadness  \n",
       "1  sadness  \n",
       "2      joy  \n",
       "3  sadness  \n",
       "4     love  "
      ]
     },
     "execution_count": 6,
     "metadata": {},
     "output_type": "execute_result"
    }
   ],
   "source": [
    "# Display the first few rows\n",
    "data.head()"
   ]
  },
  {
   "cell_type": "code",
   "execution_count": 7,
   "id": "8e1183fa-6c16-41db-8358-4de7c9291189",
   "metadata": {},
   "outputs": [],
   "source": [
    "data.drop('No.',axis=1, inplace=True)"
   ]
  },
  {
   "cell_type": "code",
   "execution_count": 8,
   "id": "a19dd4cd-308a-45a4-b94b-1a7f9d7b9ec5",
   "metadata": {},
   "outputs": [
    {
     "data": {
      "text/html": [
       "<div>\n",
       "<style scoped>\n",
       "    .dataframe tbody tr th:only-of-type {\n",
       "        vertical-align: middle;\n",
       "    }\n",
       "\n",
       "    .dataframe tbody tr th {\n",
       "        vertical-align: top;\n",
       "    }\n",
       "\n",
       "    .dataframe thead th {\n",
       "        text-align: right;\n",
       "    }\n",
       "</style>\n",
       "<table border=\"1\" class=\"dataframe\">\n",
       "  <thead>\n",
       "    <tr style=\"text-align: right;\">\n",
       "      <th></th>\n",
       "      <th>Message</th>\n",
       "      <th>Source</th>\n",
       "      <th>Label</th>\n",
       "      <th>Emotion</th>\n",
       "    </tr>\n",
       "  </thead>\n",
       "  <tbody>\n",
       "    <tr>\n",
       "      <th>0</th>\n",
       "      <td>i feel awful about it too because it s my job ...</td>\n",
       "      <td>Twitter</td>\n",
       "      <td>0.0</td>\n",
       "      <td>sadness</td>\n",
       "    </tr>\n",
       "    <tr>\n",
       "      <th>1</th>\n",
       "      <td>im alone i feel awful</td>\n",
       "      <td>Twitter</td>\n",
       "      <td>0.0</td>\n",
       "      <td>sadness</td>\n",
       "    </tr>\n",
       "    <tr>\n",
       "      <th>2</th>\n",
       "      <td>ive probably mentioned this before but i reall...</td>\n",
       "      <td>Twitter</td>\n",
       "      <td>1.0</td>\n",
       "      <td>joy</td>\n",
       "    </tr>\n",
       "    <tr>\n",
       "      <th>3</th>\n",
       "      <td>i was feeling a little low few days back</td>\n",
       "      <td>Twitter</td>\n",
       "      <td>0.0</td>\n",
       "      <td>sadness</td>\n",
       "    </tr>\n",
       "    <tr>\n",
       "      <th>4</th>\n",
       "      <td>i beleive that i am much more sensitive to oth...</td>\n",
       "      <td>Twitter</td>\n",
       "      <td>2.0</td>\n",
       "      <td>love</td>\n",
       "    </tr>\n",
       "  </tbody>\n",
       "</table>\n",
       "</div>"
      ],
      "text/plain": [
       "                                             Message   Source  Label  Emotion\n",
       "0  i feel awful about it too because it s my job ...  Twitter    0.0  sadness\n",
       "1                              im alone i feel awful  Twitter    0.0  sadness\n",
       "2  ive probably mentioned this before but i reall...  Twitter    1.0      joy\n",
       "3           i was feeling a little low few days back  Twitter    0.0  sadness\n",
       "4  i beleive that i am much more sensitive to oth...  Twitter    2.0     love"
      ]
     },
     "execution_count": 8,
     "metadata": {},
     "output_type": "execute_result"
    }
   ],
   "source": [
    "data.head()"
   ]
  },
  {
   "cell_type": "code",
   "execution_count": 9,
   "id": "049737ec-e48e-4392-90f0-dd174222ef1d",
   "metadata": {},
   "outputs": [],
   "source": [
    "# Data Cleaning\n",
    "data_cleaned = data.copy()\n",
    "data_cleaned['Label'] = data_cleaned['Label'].fillna(5)\n",
    "data_cleaned['Message'] = data_cleaned['Message'].fillna('no message')\n",
    "data_cleaned['Source'] = data_cleaned['Source'].fillna('Twitter')\n",
    "data_cleaned['Emotion'] = data_cleaned['Emotion'].fillna('suprise')\n",
    "data_cleaned.columns = data_cleaned.columns.str.strip().str.lower().str.replace(\" \", \"_\")  # Standardize column names"
   ]
  },
  {
   "cell_type": "code",
   "execution_count": 10,
   "id": "74677143-3097-46ab-aca3-59f3e49f3cd7",
   "metadata": {},
   "outputs": [
    {
     "name": "stdout",
     "output_type": "stream",
     "text": [
      "message    0\n",
      "source     0\n",
      "label      0\n",
      "emotion    0\n",
      "dtype: int64\n"
     ]
    }
   ],
   "source": [
    "data_cleaned\n",
    "print(data_cleaned.isnull().sum())"
   ]
  },
  {
   "cell_type": "code",
   "execution_count": 11,
   "id": "7492ed1d-2f29-4d4e-9787-9dab28649bbe",
   "metadata": {},
   "outputs": [
    {
     "data": {
      "image/png": "[encoded data removed]",
      "text/plain": [
       "<Figure size 640x480 with 1 Axes>"
      ]
     },
     "metadata": {},
     "output_type": "display_data"
    }
   ],
   "source": [
    "# EDA: Distribution of Labels\n",
    "sns.countplot(data=data_cleaned, x='label')\n",
    "plt.title(\"Label Distribution\")\n",
    "plt.show()"
   ]
  },
  {
   "cell_type": "code",
   "execution_count": 12,
   "id": "d344543e-11cc-4750-9bd7-1063a66eb141",
   "metadata": {},
   "outputs": [
    {
     "data": {
      "text/plain": [
       "0"
      ]
     },
     "execution_count": 12,
     "metadata": {},
     "output_type": "execute_result"
    }
   ],
   "source": [
    "data_cleaned['message'].isnull().sum()"
   ]
  },
  {
   "cell_type": "code",
   "execution_count": 13,
   "id": "f3415270-1cd8-4c56-9866-43a94b7ffe87",
   "metadata": {},
   "outputs": [],
   "source": [
    "# Add message length as a feature\n",
    "data_cleaned['message_length'] = data_cleaned['message'].apply(len)"
   ]
  },
  {
   "cell_type": "code",
   "execution_count": 14,
   "id": "f71a06ef-20db-453d-9f07-cf138453604b",
   "metadata": {},
   "outputs": [
    {
     "data": {
      "image/png": "[encoded data removed]",
      "text/plain": [
       "<Figure size 640x480 with 1 Axes>"
      ]
     },
     "metadata": {},
     "output_type": "display_data"
    }
   ],
   "source": [
    "# Plot message length distribution\n",
    "sns.histplot(data=data_cleaned, x='message_length', bins=30, kde=True)\n",
    "plt.title(\"Message Length Distribution\")\n",
    "plt.show()"
   ]
  },
  {
   "cell_type": "code",
   "execution_count": 15,
   "id": "12d0114c-e9db-446f-8a90-e4103f7e30b6",
   "metadata": {},
   "outputs": [],
   "source": [
    "# Encode the target column\n",
    "encoder = LabelEncoder()\n",
    "data_cleaned['label_encoded'] = encoder.fit_transform(data_cleaned['label'])"
   ]
  },
  {
   "cell_type": "code",
   "execution_count": 16,
   "id": "0730bbe0-ffd8-48de-bc5b-18d0df79c6fb",
   "metadata": {},
   "outputs": [
    {
     "data": {
      "text/plain": [
       "0        0\n",
       "1        0\n",
       "2        1\n",
       "3        0\n",
       "4        2\n",
       "        ..\n",
       "10995    5\n",
       "10996    5\n",
       "10997    5\n",
       "10998    5\n",
       "10999    5\n",
       "Name: label_encoded, Length: 11000, dtype: int64"
      ]
     },
     "execution_count": 16,
     "metadata": {},
     "output_type": "execute_result"
    }
   ],
   "source": [
    "data_cleaned['label_encoded']"
   ]
  },
  {
   "cell_type": "code",
   "execution_count": 17,
   "id": "c7573757-8fed-4432-81d9-d2235fa4d75d",
   "metadata": {},
   "outputs": [
    {
     "data": {
      "text/plain": [
       "0"
      ]
     },
     "execution_count": 17,
     "metadata": {},
     "output_type": "execute_result"
    }
   ],
   "source": [
    "np.isnan(data_cleaned['label_encoded']).sum()"
   ]
  },
  {
   "cell_type": "code",
   "execution_count": 18,
   "id": "5bfde770-618b-4177-b838-3b2fb0abaf48",
   "metadata": {},
   "outputs": [],
   "source": [
    "# Prepare the target variable\n",
    "y = data_cleaned['label_encoded']"
   ]
  },
  {
   "cell_type": "code",
   "execution_count": 19,
   "id": "aa19e609-d002-47cd-a91d-d313b76c81be",
   "metadata": {},
   "outputs": [],
   "source": [
    "# Feature Engineering\n",
    "data_cleaned['num_exclamation'] = data_cleaned['message'].str.count('!')\n",
    "data_cleaned['num_mentions'] = data_cleaned['message'].str.count('@')\n",
    "data_cleaned['num_hashtags'] = data_cleaned['message'].str.count('#')\n",
    "additional_features = data_cleaned[['message_length', 'num_exclamation', 'num_mentions', 'num_hashtags']].values"
   ]
  },
  {
   "cell_type": "code",
   "execution_count": 20,
   "id": "45254344-5e65-4983-885f-b98c41aca620",
   "metadata": {},
   "outputs": [
    {
     "data": {
      "text/plain": [
       "array([[112,   0,   0,   0],\n",
       "       [ 21,   0,   0,   0],\n",
       "       [152,   0,   0,   0],\n",
       "       ...,\n",
       "       [ 10,   0,   0,   0],\n",
       "       [ 10,   0,   0,   0],\n",
       "       [ 10,   0,   0,   0]], dtype=int64)"
      ]
     },
     "execution_count": 20,
     "metadata": {},
     "output_type": "execute_result"
    }
   ],
   "source": [
    "additional_features"
   ]
  },
  {
   "cell_type": "code",
   "execution_count": 21,
   "id": "988c1cec-dbf8-43f0-accf-3ee278255fc6",
   "metadata": {},
   "outputs": [],
   "source": [
    "# Initialize stemmer and stop words\n",
    "stemmer = PorterStemmer()\n",
    "stop_words = set(stopwords.words(\"english\"))\n",
    "\n",
    "def preprocess_text(text):\n",
    "    # Ensure input is a string\n",
    "    if not isinstance(text, str):\n",
    "        return \"\"  # Return an empty string for non-string values\n",
    "\n",
    "    # Lowercase\n",
    "    text = text.lower()\n",
    "\n",
    "    # Tokenize\n",
    "    tokens = word_tokenize(text)\n",
    "\n",
    "    # Remove non-alphabetic tokens and stopwords\n",
    "    tokens = [word for word in tokens if word.isalpha() and word not in stop_words]\n",
    "\n",
    "    # Stemming\n",
    "    stemmed_tokens = [stemmer.stem(word) for word in tokens]\n",
    "\n",
    "    # Lemmatization (using original tokens, not stemmed)\n",
    "    doc = nlp(\" \".join(tokens))\n",
    "    lemmatized_tokens = [token.lemma_ for token in doc]\n",
    "\n",
    "    # Return lemmatized tokens as a string\n",
    "    return \" \".join(lemmatized_tokens)"
   ]
  },
  {
   "cell_type": "code",
   "execution_count": 22,
   "id": "c0b0b75b-0919-4b22-88ee-2b5ed0095cf7",
   "metadata": {},
   "outputs": [],
   "source": [
    "# Apply preprocessing\n",
    "data['Processed'] = data['Message'].apply(preprocess_text)"
   ]
  },
  {
   "cell_type": "code",
   "execution_count": 23,
   "id": "afedce88-e6d6-4337-b8d1-0a1b272ee1cb",
   "metadata": {},
   "outputs": [],
   "source": [
    "# Text vectorization using TF-IDF\n",
    "vectorizer = TfidfVectorizer(ngram_range=(1, 2), stop_words='english', max_features=2000)\n",
    "X_vectorized = vectorizer.fit_transform(data['Processed']).toarray()"
   ]
  },
  {
   "cell_type": "code",
   "execution_count": 24,
   "id": "4237e854-0dda-4c23-a5ce-335a24bb66be",
   "metadata": {},
   "outputs": [],
   "source": [
    "# Convert all entries in 'Message' to strings before applying the function\n",
    "data['Message'] = data['Message'].astype(str)\n",
    "\n",
    "# Apply feature extraction\n",
    "data['num_exclamation'] = data['Message'].apply(lambda x: x.count('!'))\n",
    "data['num_mentions'] = data['Message'].apply(lambda x: x.count('@'))\n",
    "data['num_hashtags'] = data['Message'].apply(lambda x: x.count('#'))"
   ]
  },
  {
   "cell_type": "code",
   "execution_count": 25,
   "id": "4f14fe3f-6165-4c11-b387-e36d221e3818",
   "metadata": {},
   "outputs": [
    {
     "data": {
      "text/plain": [
       "((11000, 2000), (11000, 4))"
      ]
     },
     "execution_count": 25,
     "metadata": {},
     "output_type": "execute_result"
    }
   ],
   "source": [
    "X_vectorized.shape, additional_features.shape"
   ]
  },
  {
   "cell_type": "code",
   "execution_count": 26,
   "id": "4de88571-a386-43c3-904b-289da160d3ac",
   "metadata": {},
   "outputs": [],
   "source": [
    "# Combine TF-IDF features with additional features\n",
    "X_combined = np.hstack([X_vectorized, additional_features])\n",
    "y = data_cleaned['label_encoded']"
   ]
  },
  {
   "cell_type": "code",
   "execution_count": 27,
   "id": "6346ab17-3c5b-4087-ac40-71882d6adf10",
   "metadata": {},
   "outputs": [
    {
     "data": {
      "text/plain": [
       "0"
      ]
     },
     "execution_count": 27,
     "metadata": {},
     "output_type": "execute_result"
    }
   ],
   "source": [
    "np.isnan(y).sum()"
   ]
  },
  {
   "cell_type": "code",
   "execution_count": 33,
   "id": "b94673ae-d2b7-4964-a207-1f2f40858264",
   "metadata": {},
   "outputs": [
    {
     "name": "stdout",
     "output_type": "stream",
     "text": [
      "Original class distribution: Counter({1: 3372, 0: 2960, 5: 1390, 3: 1299, 4: 1146, 2: 833})\n"
     ]
    }
   ],
   "source": [
    "# Check original class distribution\n",
    "print(\"Original class distribution:\", Counter(y))"
   ]
  },
  {
   "cell_type": "code",
   "execution_count": 34,
   "id": "5b163883-5b62-4557-bec5-c944acb23908",
   "metadata": {},
   "outputs": [],
   "source": [
    "# Apply SMOTE with adjusted sampling strategy\n",
    "smote = SMOTE(sampling_strategy={\n",
    "    0: 3372,  # Upsample class 0 to 3372\n",
    "    2: 3000,  # Upsample class 2 to 3000\n",
    "    3: 3000,  # Upsample class 3 to 3000\n",
    "    4: 3000,  # Upsample class 4 to 3000\n",
    "    5: 3000   # Upsample class 5 to 3000\n",
    "}, random_state=42)\n",
    "\n",
    "X_resampled, y_resampled = smote.fit_resample(X_combined, y)"
   ]
  },
  {
   "cell_type": "code",
   "execution_count": 35,
   "id": "dd8a3191-2bb1-4d00-bd28-f7fae26e49e5",
   "metadata": {},
   "outputs": [],
   "source": [
    "# Scale features after SMOTE\n",
    "scaler = StandardScaler()\n",
    "X_resampled_scaled = scaler.fit_transform(X_resampled)"
   ]
  },
  {
   "cell_type": "code",
   "execution_count": 36,
   "id": "7aa570cc-5545-4b44-a39f-df6049e18218",
   "metadata": {},
   "outputs": [
    {
     "name": "stdout",
     "output_type": "stream",
     "text": [
      "Class distribution after SMOTE: Counter({0: 3372, 1: 3372, 2: 3000, 3: 3000, 4: 3000, 5: 3000})\n"
     ]
    }
   ],
   "source": [
    "# Check new class distribution\n",
    "print(\"Class distribution after SMOTE:\", Counter(y_resampled))"
   ]
  },
  {
   "cell_type": "code",
   "execution_count": 37,
   "id": "65bbd9ac-41d4-4661-b470-e057db9c6304",
   "metadata": {},
   "outputs": [],
   "source": [
    "# Train-test split\n",
    "X_train, X_test, y_train, y_test = train_test_split(\n",
    "    X_resampled_scaled, y_resampled, test_size=0.2, random_state=42, stratify=y_resampled\n",
    ")"
   ]
  },
  {
   "cell_type": "code",
   "execution_count": null,
   "id": "1f264311-08e7-45ad-9f51-40130fb3ac16",
   "metadata": {},
   "outputs": [
    {
     "name": "stdout",
     "output_type": "stream",
     "text": [
      "Fitting 5 folds for each of 5 candidates, totalling 25 fits\n"
     ]
    }
   ],
   "source": [
    "# Hyperparameter Tuning for Logistic Regression\n",
    "from sklearn.model_selection import GridSearchCV\n",
    "log_reg = LogisticRegression(max_iter=5000, random_state=42, class_weight='balanced')\n",
    "param_grid = {'C': [0.01, 0.1, 1, 10, 100]}  # Regularization parameter\n",
    "grid_search = GridSearchCV(log_reg, param_grid, cv=5, scoring='accuracy', verbose=1)\n",
    "grid_search.fit(X_train, y_train)"
   ]
  },
  {
   "cell_type": "code",
   "execution_count": null,
   "id": "578ac387-ba09-4322-b5da-7bc3931bc2a7",
   "metadata": {},
   "outputs": [],
   "source": [
    "# Get the best model\n",
    "best_model = grid_search.best_estimator_"
   ]
  },
  {
   "cell_type": "code",
   "execution_count": null,
   "id": "03f61f0b-1612-4da8-a160-6ec032ffd311",
   "metadata": {},
   "outputs": [],
   "source": [
    "# Evaluate the best model on the test set\n",
    "y_pred_best = best_model.predict(X_test)\n",
    "print(f\"Best Logistic Regression Accuracy: {accuracy_score(y_test, y_pred_best):.2f}\")\n",
    "print(\"\\nBest Logistic Regression Classification Report:\\n\", classification_report(y_test, y_pred_best))"
   ]
  },
  {
   "cell_type": "code",
   "execution_count": null,
   "id": "65c23bb7-be44-45cf-ba12-ec6e39a1f789",
   "metadata": {},
   "outputs": [
    {
     "name": "stdout",
     "output_type": "stream",
     "text": [
      "Fitting 5 folds for each of 27 candidates, totalling 135 fits\n"
     ]
    }
   ],
   "source": [
    "# Hyperparameter Tuning for Random Forest\n",
    "param_grid = {\n",
    "    'n_estimators': [50, 100, 200],\n",
    "    'max_depth': [10, 20, None],\n",
    "    'min_samples_split': [2, 5, 10]\n",
    "}\n",
    "rf_model = RandomForestClassifier(random_state=42)\n",
    "grid_search_rf = GridSearchCV(rf_model, param_grid, cv=5, scoring='accuracy', verbose=30, n_jobs=-1)\n",
    "grid_search_rf.fit(X_train, y_train)"
   ]
  },
  {
   "cell_type": "code",
   "execution_count": null,
   "id": "0c174432-fab5-4b35-96b0-cf920cb58344",
   "metadata": {},
   "outputs": [],
   "source": [
    "# Get the best Random Forest model\n",
    "best_rf_model = grid_search_rf.best_estimator_"
   ]
  },
  {
   "cell_type": "code",
   "execution_count": null,
   "id": "4696be6f-26a9-4d8e-9ede-5701238cae4d",
   "metadata": {},
   "outputs": [],
   "source": [
    "# Evaluate the best Random Forest model\n",
    "y_pred_rf = best_rf_model.predict(X_test)\n",
    "print(f\"Best Random Forest Accuracy: {accuracy_score(y_test, y_pred_rf):.2f}\")\n",
    "print(\"\\nBest Random Forest Classification Report:\\n\", classification_report(y_test, y_pred_rf))"
   ]
  }
 ],
 "metadata": {
  "kernelspec": {
   "display_name": "Python 3 (ipykernel)",
   "language": "python",
   "name": "python3"
  },
  "language_info": {
   "codemirror_mode": {
    "name": "ipython",
    "version": 3
   },
   "file_extension": ".py",
   "mimetype": "text/x-python",
   "name": "python",
   "nbconvert_exporter": "python",
   "pygments_lexer": "ipython3",
   "version": "3.9.20"
  }
 },
 "nbformat": 4,
 "nbformat_minor": 5
}
