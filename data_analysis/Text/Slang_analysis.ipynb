{
 "cells": [
  {
   "cell_type": "code",
   "execution_count": 1,
   "id": "261a944e-e50b-4ccc-8893-e3794bc45429",
   "metadata": {},
   "outputs": [],
   "source": [
    "# Slang analysis \n",
    "\n",
    "import pandas as pd"
   ]
  },
  {
   "cell_type": "code",
   "execution_count": 2,
   "id": "118fdd69-5e49-411e-9870-6f02b3bf8357",
   "metadata": {},
   "outputs": [],
   "source": [
    "# Load the dataset with a different encoding\n",
    "file_path = r\"C:\\Users\\nehal\\Documents\\GitHub\\msba265-finalstorage\\data_storage\\slang.csv\"\n",
    "data = pd.read_csv(file_path, encoding='ISO-8859-1')  # Try using ISO-8859-1 or latin1 if this doesn't work"
   ]
  },
  {
   "cell_type": "code",
   "execution_count": 3,
   "id": "68694aff-fe1e-4e32-976d-765bce072c42",
   "metadata": {},
   "outputs": [
    {
     "name": "stdout",
     "output_type": "stream",
     "text": [
      "   No. Text   Type  Label Main emotion\n",
      "0    1    ?  slang      1     Negative\n",
      "1    2  ?4U  slang      0      Neutral\n",
      "2    3   ;S  slang      0      Neutral\n",
      "3    4   ^^  slang      0      Neutral\n",
      "4    5   <3  slang      0      Neutral\n"
     ]
    }
   ],
   "source": [
    "# Display the first few rows to understand the dataset structure\n",
    "print(data.head())"
   ]
  },
  {
   "cell_type": "code",
   "execution_count": 4,
   "id": "5c3513ff-30b8-4b47-9a2a-e4bfb787e093",
   "metadata": {},
   "outputs": [
    {
     "name": "stdout",
     "output_type": "stream",
     "text": [
      "Missing values per column:\n",
      " No.             0\n",
      "Text            0\n",
      "Type            0\n",
      "Label           0\n",
      "Main emotion    0\n",
      "dtype: int64\n"
     ]
    }
   ],
   "source": [
    "# Data Cleaning\n",
    "# Check for missing values\n",
    "print(\"Missing values per column:\\n\", data.isnull().sum())"
   ]
  },
  {
   "cell_type": "code",
   "execution_count": 5,
   "id": "72fa33a9-728f-44b7-97a6-8230ed06b8ec",
   "metadata": {},
   "outputs": [],
   "source": [
    "# Drop rows with missing values or handle them accordingly\n",
    "data_cleaned = data.dropna()  # Drop rows with missing values, or use fillna() to fill them"
   ]
  },
  {
   "cell_type": "code",
   "execution_count": 6,
   "id": "30767e30-1805-49ed-ab00-3622d8796e05",
   "metadata": {},
   "outputs": [],
   "source": [
    "# Standardize column names (remove extra spaces or special characters)\n",
    "data_cleaned.columns = data_cleaned.columns.str.strip().str.lower().str.replace(\" \", \"_\")"
   ]
  },
  {
   "cell_type": "code",
   "execution_count": 7,
   "id": "c67374e3-e0be-4568-a3a2-16aaaa27054a",
   "metadata": {},
   "outputs": [
    {
     "name": "stdout",
     "output_type": "stream",
     "text": [
      "Duplicates before: 0\n",
      "Duplicates after: 0\n"
     ]
    }
   ],
   "source": [
    "# Check for duplicates and drop if necessary\n",
    "print(f\"Duplicates before: {data_cleaned.duplicated().sum()}\")\n",
    "data_cleaned = data_cleaned.drop_duplicates()\n",
    "print(f\"Duplicates after: {data_cleaned.duplicated().sum()}\")"
   ]
  },
  {
   "cell_type": "code",
   "execution_count": 8,
   "id": "c24e8006-3ee4-41b6-8c09-049c4a8a7ada",
   "metadata": {},
   "outputs": [
    {
     "name": "stdout",
     "output_type": "stream",
     "text": [
      "   no. text   type  label main_emotion\n",
      "0    1    ?  slang      1     Negative\n",
      "1    2  ?4U  slang      0      Neutral\n",
      "2    3   ;S  slang      0      Neutral\n",
      "3    4   ^^  slang      0      Neutral\n",
      "4    5   <3  slang      0      Neutral\n"
     ]
    }
   ],
   "source": [
    "# Display the cleaned dataset\n",
    "print(data_cleaned.head())"
   ]
  }
 ],
 "metadata": {
  "kernelspec": {
   "display_name": "Python 3 (ipykernel)",
   "language": "python",
   "name": "python3"
  },
  "language_info": {
   "codemirror_mode": {
    "name": "ipython",
    "version": 3
   },
   "file_extension": ".py",
   "mimetype": "text/x-python",
   "name": "python",
   "nbconvert_exporter": "python",
   "pygments_lexer": "ipython3",
   "version": "3.12.4"
  }
 },
 "nbformat": 4,
 "nbformat_minor": 5
}
