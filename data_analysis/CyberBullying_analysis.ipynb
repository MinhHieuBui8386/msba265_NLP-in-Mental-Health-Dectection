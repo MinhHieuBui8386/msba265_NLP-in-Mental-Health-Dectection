{
 "cells": [
  {
   "cell_type": "code",
   "execution_count": 18,
   "metadata": {},
   "outputs": [],
   "source": [
    "# Importing the necessary libraries for data handling and text processing\n",
    "\n",
    "import pandas as pd\n",
    "import nltk\n",
    "import re\n",
    "from nltk.corpus import stopwords\n",
    "from nltk.tokenize import word_tokenize\n"
   ]
  },
  {
   "cell_type": "code",
   "execution_count": 19,
   "metadata": {},
   "outputs": [
    {
     "name": "stderr",
     "output_type": "stream",
     "text": [
      "[nltk_data] Downloading package punkt to\n",
      "[nltk_data]     /Users/roopasreesubramanyam/nltk_data...\n",
      "[nltk_data]   Package punkt is already up-to-date!\n",
      "[nltk_data] Downloading package stopwords to\n",
      "[nltk_data]     /Users/roopasreesubramanyam/nltk_data...\n",
      "[nltk_data]   Package stopwords is already up-to-date!\n"
     ]
    },
    {
     "data": {
      "text/plain": [
       "True"
      ]
     },
     "execution_count": 19,
     "metadata": {},
     "output_type": "execute_result"
    }
   ],
   "source": [
    "\n",
    "import ssl\n",
    "\n",
    "try:\n",
    "    _create_unverified_https_context = ssl._create_unverified_context\n",
    "except AttributeError:\n",
    "    pass\n",
    "else:\n",
    "    ssl._create_default_https_context = _create_unverified_https_context\n",
    "# Ensure NLTK resources are downloaded\n",
    "nltk.download('punkt')\n",
    "nltk.download('stopwords')"
   ]
  },
  {
   "cell_type": "code",
   "execution_count": 20,
   "metadata": {},
   "outputs": [],
   "source": [
    "# Load the dataset\n",
    "\n",
    "df = pd.read_csv('/Users/roopasreesubramanyam/Desktop/msba265-finalstorage/data_storage/CyberBullying.csv')\n"
   ]
  },
  {
   "cell_type": "code",
   "execution_count": 21,
   "metadata": {},
   "outputs": [
    {
     "name": "stdout",
     "output_type": "stream",
     "text": [
      "  Text-based data (Cyberbullying)  \\\n",
      "1                               1   \n",
      "2                               2   \n",
      "3                               3   \n",
      "4                               4   \n",
      "5                               5   \n",
      "\n",
      "                                               col_1 col_2    col_3  \\\n",
      "1                           u0 lmao wow fuck you too   😂 😂  YouTube   \n",
      "2  a white dress and red lipstick make everything...   NaN      NaN   \n",
      "3  this has been a trend since <number> of course...   NaN  YouTube   \n",
      "4  <user> <user> babies in cages destroying envir...   NaN  YouTube   \n",
      "5  <user> more good neighbours yes that working o...   NaN  YouTube   \n",
      "\n",
      "            col_4 col_5  col_6  col_7  col_8  col_9  ...  col_16  col_17  \\\n",
      "1  neutral/normal     0    NaN    NaN    NaN    NaN  ...     NaN     NaN   \n",
      "2  neutral/normal     0    NaN    NaN    NaN    NaN  ...     NaN     NaN   \n",
      "3  neutral/normal     0    NaN    NaN    NaN    NaN  ...     NaN     NaN   \n",
      "4         neutral     0    NaN    NaN    NaN    NaN  ...     NaN     NaN   \n",
      "5  neutral/normal     0    NaN    NaN    NaN    NaN  ...     NaN     NaN   \n",
      "\n",
      "   col_18  col_19  col_20  col_21  col_22  col_23  col_24  col_25  \n",
      "1     NaN     NaN     NaN     NaN     NaN     NaN     NaN     NaN  \n",
      "2     NaN     NaN     NaN     NaN     NaN     NaN     NaN     NaN  \n",
      "3     NaN     NaN     NaN     NaN     NaN     NaN     NaN     NaN  \n",
      "4     NaN     NaN     NaN     NaN     NaN     NaN     NaN     NaN  \n",
      "5     NaN     NaN     NaN     NaN     NaN     NaN     NaN     NaN  \n",
      "\n",
      "[5 rows x 26 columns]\n"
     ]
    }
   ],
   "source": [
    "# Check the first few rows to get a sense of the data structure\n",
    "\n",
    "df = df.iloc[1:]\n",
    "# Rename columns to make sure 'text' and 'label' are properly identified\n",
    "df.columns = [f'col_{i}' if 'Unnamed' in col else col for i, col in enumerate(df.columns)]\n",
    "print(df.head())"
   ]
  },
  {
   "cell_type": "code",
   "execution_count": 22,
   "metadata": {},
   "outputs": [
    {
     "name": "stderr",
     "output_type": "stream",
     "text": [
      "/var/folders/x3/hdhbhhpj4zl2_zv2m6z2yp4r0000gn/T/ipykernel_8719/3132921300.py:6: SettingWithCopyWarning: \n",
      "A value is trying to be set on a copy of a slice from a DataFrame\n",
      "\n",
      "See the caveats in the documentation: https://pandas.pydata.org/pandas-docs/stable/user_guide/indexing.html#returning-a-view-versus-a-copy\n",
      "  cleaned_dataset.dropna(subset=['text', 'label'], inplace=True)\n"
     ]
    },
    {
     "data": {
      "text/html": [
       "<div>\n",
       "<style scoped>\n",
       "    .dataframe tbody tr th:only-of-type {\n",
       "        vertical-align: middle;\n",
       "    }\n",
       "\n",
       "    .dataframe tbody tr th {\n",
       "        vertical-align: top;\n",
       "    }\n",
       "\n",
       "    .dataframe thead th {\n",
       "        text-align: right;\n",
       "    }\n",
       "</style>\n",
       "<table border=\"1\" class=\"dataframe\">\n",
       "  <thead>\n",
       "    <tr style=\"text-align: right;\">\n",
       "      <th></th>\n",
       "      <th>text</th>\n",
       "      <th>label</th>\n",
       "    </tr>\n",
       "  </thead>\n",
       "  <tbody>\n",
       "    <tr>\n",
       "      <th>1</th>\n",
       "      <td>u0 lmao wow fuck you too</td>\n",
       "      <td>0</td>\n",
       "    </tr>\n",
       "    <tr>\n",
       "      <th>2</th>\n",
       "      <td>a white dress and red lipstick make everything...</td>\n",
       "      <td>0</td>\n",
       "    </tr>\n",
       "    <tr>\n",
       "      <th>3</th>\n",
       "      <td>this has been a trend since &lt;number&gt; of course...</td>\n",
       "      <td>0</td>\n",
       "    </tr>\n",
       "    <tr>\n",
       "      <th>4</th>\n",
       "      <td>&lt;user&gt; &lt;user&gt; babies in cages destroying envir...</td>\n",
       "      <td>0</td>\n",
       "    </tr>\n",
       "    <tr>\n",
       "      <th>5</th>\n",
       "      <td>&lt;user&gt; more good neighbours yes that working o...</td>\n",
       "      <td>0</td>\n",
       "    </tr>\n",
       "  </tbody>\n",
       "</table>\n",
       "</div>"
      ],
      "text/plain": [
       "                                                text label\n",
       "1                           u0 lmao wow fuck you too     0\n",
       "2  a white dress and red lipstick make everything...     0\n",
       "3  this has been a trend since <number> of course...     0\n",
       "4  <user> <user> babies in cages destroying envir...     0\n",
       "5  <user> more good neighbours yes that working o...     0"
      ]
     },
     "execution_count": 22,
     "metadata": {},
     "output_type": "execute_result"
    }
   ],
   "source": [
    "# Select only the columns for text and label (replace 'col_1' and 'col_5' with the actual names if needed)\n",
    "cleaned_dataset = df[['col_1', 'col_5']]\n",
    "cleaned_dataset.columns = ['text', 'label']\n",
    "\n",
    "# Drop rows with missing data in 'text' or 'label'\n",
    "cleaned_dataset.dropna(subset=['text', 'label'], inplace=True)\n",
    "cleaned_dataset.head()"
   ]
  },
  {
   "cell_type": "code",
   "execution_count": 23,
   "metadata": {},
   "outputs": [
    {
     "name": "stdout",
     "output_type": "stream",
     "text": [
      "Null values in each column after dropping:\n",
      "text     0\n",
      "label    0\n",
      "dtype: int64\n",
      "Cleaned dataset preview:\n"
     ]
    },
    {
     "data": {
      "text/html": [
       "<div>\n",
       "<style scoped>\n",
       "    .dataframe tbody tr th:only-of-type {\n",
       "        vertical-align: middle;\n",
       "    }\n",
       "\n",
       "    .dataframe tbody tr th {\n",
       "        vertical-align: top;\n",
       "    }\n",
       "\n",
       "    .dataframe thead th {\n",
       "        text-align: right;\n",
       "    }\n",
       "</style>\n",
       "<table border=\"1\" class=\"dataframe\">\n",
       "  <thead>\n",
       "    <tr style=\"text-align: right;\">\n",
       "      <th></th>\n",
       "      <th>text</th>\n",
       "      <th>label</th>\n",
       "    </tr>\n",
       "  </thead>\n",
       "  <tbody>\n",
       "    <tr>\n",
       "      <th>1</th>\n",
       "      <td>u0 lmao wow fuck you too</td>\n",
       "      <td>0</td>\n",
       "    </tr>\n",
       "    <tr>\n",
       "      <th>2</th>\n",
       "      <td>a white dress and red lipstick make everything...</td>\n",
       "      <td>0</td>\n",
       "    </tr>\n",
       "    <tr>\n",
       "      <th>3</th>\n",
       "      <td>this has been a trend since &lt;number&gt; of course...</td>\n",
       "      <td>0</td>\n",
       "    </tr>\n",
       "    <tr>\n",
       "      <th>4</th>\n",
       "      <td>&lt;user&gt; &lt;user&gt; babies in cages destroying envir...</td>\n",
       "      <td>0</td>\n",
       "    </tr>\n",
       "    <tr>\n",
       "      <th>5</th>\n",
       "      <td>&lt;user&gt; more good neighbours yes that working o...</td>\n",
       "      <td>0</td>\n",
       "    </tr>\n",
       "  </tbody>\n",
       "</table>\n",
       "</div>"
      ],
      "text/plain": [
       "                                                text label\n",
       "1                           u0 lmao wow fuck you too     0\n",
       "2  a white dress and red lipstick make everything...     0\n",
       "3  this has been a trend since <number> of course...     0\n",
       "4  <user> <user> babies in cages destroying envir...     0\n",
       "5  <user> more good neighbours yes that working o...     0"
      ]
     },
     "execution_count": 23,
     "metadata": {},
     "output_type": "execute_result"
    }
   ],
   "source": [
    "# Check for null values after dropping\n",
    "print(\"Null values in each column after dropping:\")\n",
    "print(cleaned_dataset.isnull().sum())\n",
    "\n",
    "# Display a preview of the cleaned dataset\n",
    "print(\"Cleaned dataset preview:\")\n",
    "cleaned_dataset.head()"
   ]
  },
  {
   "cell_type": "code",
   "execution_count": 24,
   "metadata": {},
   "outputs": [
    {
     "name": "stdout",
     "output_type": "stream",
     "text": [
      "                                                text  \\\n",
      "1                           u0 lmao wow fuck you too   \n",
      "2  a white dress and red lipstick make everything...   \n",
      "3  this has been a trend since <number> of course...   \n",
      "4  <user> <user> babies in cages destroying envir...   \n",
      "5  <user> more good neighbours yes that working o...   \n",
      "\n",
      "                                      processed_text  \n",
      "1                                      lmao wow fuck  \n",
      "2    white dress red lipstick make everything better  \n",
      "3  trend since course wall street assumed eternal...  \n",
      "4  babies cages destroying environment rolling ba...  \n",
      "5  good neighbours yes working well crime skyrock...  \n"
     ]
    },
    {
     "name": "stderr",
     "output_type": "stream",
     "text": [
      "/var/folders/x3/hdhbhhpj4zl2_zv2m6z2yp4r0000gn/T/ipykernel_8719/1393139838.py:16: SettingWithCopyWarning: \n",
      "A value is trying to be set on a copy of a slice from a DataFrame.\n",
      "Try using .loc[row_indexer,col_indexer] = value instead\n",
      "\n",
      "See the caveats in the documentation: https://pandas.pydata.org/pandas-docs/stable/user_guide/indexing.html#returning-a-view-versus-a-copy\n",
      "  cleaned_dataset['processed_text'] = cleaned_dataset['text'].apply(preprocess_text)\n"
     ]
    }
   ],
   "source": [
    "# Function to preprocess text\n",
    "def preprocess_text(text):\n",
    "    # Convert text to lowercase\n",
    "    text = text.lower()\n",
    "    # Remove words like <xyz> using regex\n",
    "    text = re.sub(r'<[^>]+>', '', text)\n",
    "    # Tokenize the text\n",
    "    tokens = word_tokenize(text)\n",
    "    # Remove punctuation and stopwords, and filter out numbers\n",
    "    stop_words = set(stopwords.words('english'))\n",
    "    clean_tokens = [token for token in tokens if token.isalpha() and token not in stop_words]\n",
    "    # Join the tokens back into a clean string\n",
    "    return ' '.join(clean_tokens)\n",
    "\n",
    "# Apply preprocessing to the 'text' column\n",
    "cleaned_dataset['processed_text'] = cleaned_dataset['text'].apply(preprocess_text)\n",
    "\n",
    "# Display a preview of the cleaned dataset\n",
    "print(cleaned_dataset[['text', 'processed_text']].head())\n"
   ]
  },
  {
   "cell_type": "code",
   "execution_count": 25,
   "metadata": {},
   "outputs": [
    {
     "data": {
      "text/html": [
       "<div>\n",
       "<style scoped>\n",
       "    .dataframe tbody tr th:only-of-type {\n",
       "        vertical-align: middle;\n",
       "    }\n",
       "\n",
       "    .dataframe tbody tr th {\n",
       "        vertical-align: top;\n",
       "    }\n",
       "\n",
       "    .dataframe thead th {\n",
       "        text-align: right;\n",
       "    }\n",
       "</style>\n",
       "<table border=\"1\" class=\"dataframe\">\n",
       "  <thead>\n",
       "    <tr style=\"text-align: right;\">\n",
       "      <th></th>\n",
       "      <th>text</th>\n",
       "      <th>label</th>\n",
       "      <th>processed_text</th>\n",
       "    </tr>\n",
       "  </thead>\n",
       "  <tbody>\n",
       "    <tr>\n",
       "      <th>1</th>\n",
       "      <td>u0 lmao wow fuck you too</td>\n",
       "      <td>0</td>\n",
       "      <td>lmao wow fuck</td>\n",
       "    </tr>\n",
       "    <tr>\n",
       "      <th>2</th>\n",
       "      <td>a white dress and red lipstick make everything...</td>\n",
       "      <td>0</td>\n",
       "      <td>white dress red lipstick make everything better</td>\n",
       "    </tr>\n",
       "    <tr>\n",
       "      <th>3</th>\n",
       "      <td>this has been a trend since &lt;number&gt; of course...</td>\n",
       "      <td>0</td>\n",
       "      <td>trend since course wall street assumed eternal...</td>\n",
       "    </tr>\n",
       "    <tr>\n",
       "      <th>4</th>\n",
       "      <td>&lt;user&gt; &lt;user&gt; babies in cages destroying envir...</td>\n",
       "      <td>0</td>\n",
       "      <td>babies cages destroying environment rolling ba...</td>\n",
       "    </tr>\n",
       "    <tr>\n",
       "      <th>5</th>\n",
       "      <td>&lt;user&gt; more good neighbours yes that working o...</td>\n",
       "      <td>0</td>\n",
       "      <td>good neighbours yes working well crime skyrock...</td>\n",
       "    </tr>\n",
       "  </tbody>\n",
       "</table>\n",
       "</div>"
      ],
      "text/plain": [
       "                                                text  label  \\\n",
       "1                           u0 lmao wow fuck you too      0   \n",
       "2  a white dress and red lipstick make everything...      0   \n",
       "3  this has been a trend since <number> of course...      0   \n",
       "4  <user> <user> babies in cages destroying envir...      0   \n",
       "5  <user> more good neighbours yes that working o...      0   \n",
       "\n",
       "                                      processed_text  \n",
       "1                                      lmao wow fuck  \n",
       "2    white dress red lipstick make everything better  \n",
       "3  trend since course wall street assumed eternal...  \n",
       "4  babies cages destroying environment rolling ba...  \n",
       "5  good neighbours yes working well crime skyrock...  "
      ]
     },
     "execution_count": 25,
     "metadata": {},
     "output_type": "execute_result"
    }
   ],
   "source": [
    "# Ensure that 'label' is a number and drop any rows where it isn't\n",
    "cleaned_dataset = cleaned_dataset[pd.to_numeric(cleaned_dataset['label'], errors='coerce').notnull()]\n",
    "cleaned_dataset['label'] = cleaned_dataset['label'].astype(int)\n",
    "cleaned_dataset.head()"
   ]
  }
 ],
 "metadata": {
  "kernelspec": {
   "display_name": "Python 3",
   "language": "python",
   "name": "python3"
  },
  "language_info": {
   "codemirror_mode": {
    "name": "ipython",
    "version": 3
   },
   "file_extension": ".py",
   "mimetype": "text/x-python",
   "name": "python",
   "nbconvert_exporter": "python",
   "pygments_lexer": "ipython3",
   "version": "3.13.0"
  }
 },
 "nbformat": 4,
 "nbformat_minor": 2
}
