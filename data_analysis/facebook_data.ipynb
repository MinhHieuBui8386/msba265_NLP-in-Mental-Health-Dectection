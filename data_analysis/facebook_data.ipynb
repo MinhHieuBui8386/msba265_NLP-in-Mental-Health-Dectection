{
 "cells": [
  {
   "cell_type": "code",
   "execution_count": 7,
   "metadata": {},
   "outputs": [
    {
     "name": "stdout",
     "output_type": "stream",
     "text": [
      "Missing values in target: 2\n",
      "Confusion Matrix:\n",
      "[[1849    8]\n",
      " [  32  205]]\n",
      "\n",
      "Classification Report:\n",
      "              precision    recall  f1-score   support\n",
      "\n",
      "         0.0       0.98      1.00      0.99      1857\n",
      "         1.0       0.96      0.86      0.91       237\n",
      "\n",
      "    accuracy                           0.98      2094\n",
      "   macro avg       0.97      0.93      0.95      2094\n",
      "weighted avg       0.98      0.98      0.98      2094\n",
      "\n",
      "Accuracy: 0.98\n"
     ]
    }
   ],
   "source": [
    "import pandas as pd\n",
    "from sklearn.model_selection import train_test_split\n",
    "from sklearn.feature_extraction.text import CountVectorizer\n",
    "from sklearn.linear_model import LogisticRegression\n",
    "from sklearn.metrics import classification_report, confusion_matrix, accuracy_score\n",
    "dataset = pd.read_csv('/Users/oprah/Documents/GitHub/msba265-finalstorage/data_storage/dataset facebook.csv')\n",
    "dataset.head()\n",
    "# Create target variable and feature set\n",
    "X = dataset['text']\n",
    "y = dataset['label']\n",
    "# Check for missing values in y\n",
    "print(\"Missing values in target:\", y.isnull().sum())\n",
    "# Drop rows with missing target values\n",
    "dataset = dataset.dropna(subset=['label'])\n",
    "X = dataset['text']\n",
    "y = dataset['label']\n",
    "# Split the dataset into training and testing sets\n",
    "X_train, X_test, y_train, y_test = train_test_split(X, y, test_size=0.3, random_state=42)\n",
    "# Convert text to numerical data\n",
    "vectorizer = CountVectorizer()\n",
    "X_train_vec = vectorizer.fit_transform(X_train)\n",
    "X_test_vec = vectorizer.transform(X_test)\n",
    "model = LogisticRegression()\n",
    "model.fit(X_train_vec, y_train) \n",
    "# Make predictions\n",
    "y_pred = model.predict(X_test_vec)\n",
    "# Evaluate the performance of the model\n",
    "print(\"Confusion Matrix:\")\n",
    "print(confusion_matrix(y_test, y_pred))\n",
    "print(\"\\nClassification Report:\")\n",
    "print(classification_report(y_test, y_pred))\n",
    "accuracy = accuracy_score(y_test, y_pred)\n",
    "print(f\"Accuracy: {accuracy:.2f}\")\n"
   ]
  }
 ],
 "metadata": {
  "kernelspec": {
   "display_name": "Python 3",
   "language": "python",
   "name": "python3"
  },
  "language_info": {
   "codemirror_mode": {
    "name": "ipython",
    "version": 3
   },
   "file_extension": ".py",
   "mimetype": "text/x-python",
   "name": "python",
   "nbconvert_exporter": "python",
   "pygments_lexer": "ipython3",
   "version": "3.12.5"
  }
 },
 "nbformat": 4,
 "nbformat_minor": 2
}
